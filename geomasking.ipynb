{
 "cells": [
  {
   "cell_type": "markdown",
   "metadata": {},
   "source": [
    "<center> <b>UCGIS I-GUIDE Community Champion Project</b> </center>\n",
    "\n",
    "\n",
    "# Protecting Location Privacy with Geomasking\n",
    "<i>Yue Lin</i>\n",
    "\n",
    "This Jupyter notebook demonstrates how geomasking techniques can be used to protect the location privacy of individual-level sensitive data."
   ]
  },
  {
   "cell_type": "code",
   "execution_count": null,
   "metadata": {},
   "outputs": [],
   "source": []
  }
 ],
 "metadata": {
  "language_info": {
   "name": "python"
  },
  "orig_nbformat": 4
 },
 "nbformat": 4,
 "nbformat_minor": 2
}
