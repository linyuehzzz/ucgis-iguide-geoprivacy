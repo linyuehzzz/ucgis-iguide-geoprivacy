{
 "cells": [
  {
   "cell_type": "markdown",
   "metadata": {},
   "source": [
    "<center> <b>UCGIS I-GUIDE Community Champion Project</b> </center>\n",
    "\n",
    "\n",
    "# Protecting Location Privacy of Individual-level Sensitive Data: A Review of Methods\n",
    "<i>Yue Lin</i>\n",
    "\n",
    "This Jupyter notebook demonstrates how techniques such as geomasking and differential privacy can be used to protect the location privacy of individual-level sensitive data."
   ]
  },
  {
   "cell_type": "markdown",
   "metadata": {},
   "source": [
    "## Notebook Outline\n",
    "- [Introduction](#intro)\n",
    "- [References](#ref)"
   ]
  },
  {
   "cell_type": "markdown",
   "metadata": {},
   "source": [
    "<a id='intro'></a>\n",
    "## Introduction\n",
    "Location privacy is an individual right to prevent the identification of a person from his or her geographic locations. In this notebook, we demonstrate how different techniques can be used to privacy when releasing individual-level geographic data."
   ]
  },
  {
   "cell_type": "code",
   "execution_count": null,
   "metadata": {},
   "outputs": [],
   "source": []
  },
  {
   "cell_type": "code",
   "execution_count": null,
   "metadata": {},
   "outputs": [],
   "source": []
  },
  {
   "cell_type": "markdown",
   "metadata": {},
   "source": [
    "<a id='ref'></a>\n",
    "## References\n",
    "<!-- <span id=\"fn1\"> -->"
   ]
  }
 ],
 "metadata": {
  "language_info": {
   "name": "python"
  },
  "orig_nbformat": 4
 },
 "nbformat": 4,
 "nbformat_minor": 2
}
